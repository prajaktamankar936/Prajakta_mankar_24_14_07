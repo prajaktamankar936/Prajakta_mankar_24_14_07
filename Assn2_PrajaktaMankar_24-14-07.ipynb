{
 "cells": [
  {
   "cell_type": "markdown",
   "id": "4235680e-79ec-43f4-a864-2bec9231ad2a",
   "metadata": {},
   "source": [
    "Prajakta Mankar\\\n",
    "24-14-07\\\n",
    "M.Tech Modelling & Simulation\\\n",
    "Data Science Tools and Techniques (AM-609)\\\n",
    "Assignment 2"
   ]
  },
  {
   "cell_type": "markdown",
   "id": "e2c010c4-716e-4f5d-90d3-bdd524a69c6e",
   "metadata": {},
   "source": [
    "Q.1\\\n",
    "a) Create a variable named var1 that stores an array of numbers from 0 to 30,\n",
    "inclusive. Print var1 and its shape. Hint : arange\\\n",
    "b) Change var2 to a validly-shaped two-dimensional matrix and store it in a\n",
    "new variable called var2. Print var2 and its shape. Hint: Use the reshape function\\\n",
    "c) Create a third variable, var3 that reshapes it into a valid three-dimensional shape.\n",
    "Print var3 and its shape.\\\n",
    "d) Use two-dimensional array indexing to set the first value in the second row of var2\n",
    "to -1. Now look at var1 and var3. Did they change? Explain what’s\n",
    "going on. (Hint: does reshape return a view or a copy?)\\\n",
    "e) Another thing that comes up a lot with array shapes is thinking about how to\n",
    "aggregate over specific dimensions. Figure out how the NumPy sum function\n",
    "works (and the axis argument in particular) and do the following:\\\n",
    "(i) Sum var3 over its second dimension and print the result.\\\n",
    "(ii) Sum var3 over its third dimension and print the result.\\\n",
    "(iii) Sum var3 over both its first and third dimensions and print the result.\\\n",
    "f) Write code to do the following:\\\n",
    "(i) Slice out the second row of var2 and print it.\\\n",
    "(ii) Slice out the last column of var2 using the -1 notation and print it.\\\n",
    "(iii) Slice out the top right 2 × 2 submatrix of var2 and print it."
   ]
  },
  {
   "cell_type": "code",
   "execution_count": 1,
   "id": "6b28b870-709a-4dd1-acd3-3c209bc7d15a",
   "metadata": {},
   "outputs": [],
   "source": [
    "import numpy as np"
   ]
  },
  {
   "cell_type": "code",
   "execution_count": 2,
   "id": "d1fd3be1-b8ec-49a1-9a3a-bf030cd69247",
   "metadata": {},
   "outputs": [
    {
     "name": "stdout",
     "output_type": "stream",
     "text": [
      "var1 -  [ 0  1  2  3  4  5  6  7  8  9 10 11 12 13 14 15 16 17 18 19 20 21 22 23\n",
      " 24 25 26 27 28 29]\n",
      "Shape of var1 -  (30,)\n"
     ]
    }
   ],
   "source": [
    "var1 = np.arange(30) # (a)\n",
    "print(\"var1 - \", var1)\n",
    "print(\"Shape of var1 - \", var1.shape)"
   ]
  },
  {
   "cell_type": "code",
   "execution_count": 3,
   "id": "4adfc54c-e73c-48d2-95ad-99381f9a01d1",
   "metadata": {},
   "outputs": [
    {
     "name": "stdout",
     "output_type": "stream",
     "text": [
      "var2 -  [[ 0  1  2  3  4]\n",
      " [ 5  6  7  8  9]\n",
      " [10 11 12 13 14]\n",
      " [15 16 17 18 19]\n",
      " [20 21 22 23 24]\n",
      " [25 26 27 28 29]]\n",
      "Shape of var2 -  (6, 5)\n"
     ]
    }
   ],
   "source": [
    "var2 = np.reshape(var1, (6,5)) # (b)\n",
    "print(\"var2 - \", var2)\n",
    "print(\"Shape of var2 - \", var2.shape)"
   ]
  },
  {
   "cell_type": "code",
   "execution_count": 4,
   "id": "8ed99a49-0d1e-4718-a7b9-a9fe2e635d55",
   "metadata": {},
   "outputs": [
    {
     "name": "stdout",
     "output_type": "stream",
     "text": [
      "var3 -  [[[ 0  1]\n",
      "  [ 2  3]\n",
      "  [ 4  5]\n",
      "  [ 6  7]\n",
      "  [ 8  9]]\n",
      "\n",
      " [[10 11]\n",
      "  [12 13]\n",
      "  [14 15]\n",
      "  [16 17]\n",
      "  [18 19]]\n",
      "\n",
      " [[20 21]\n",
      "  [22 23]\n",
      "  [24 25]\n",
      "  [26 27]\n",
      "  [28 29]]]\n",
      "Shape of var3 -  (3, 5, 2)\n"
     ]
    }
   ],
   "source": [
    "var3 = np.reshape(var2, (3,5,2)) # (c)\n",
    "print(\"var3 - \", var3)\n",
    "print(\"Shape of var3 - \", var3.shape)"
   ]
  },
  {
   "cell_type": "code",
   "execution_count": 5,
   "id": "678f6dd6-215c-45f7-9c85-5a73dac3bc49",
   "metadata": {},
   "outputs": [
    {
     "name": "stdout",
     "output_type": "stream",
     "text": [
      "var1 -  [ 0  1  2  3  4 -1  6  7  8  9 10 11 12 13 14 15 16 17 18 19 20 21 22 23\n",
      " 24 25 26 27 28 29]\n",
      "var3 -  [[[ 0  1]\n",
      "  [ 2  3]\n",
      "  [ 4 -1]\n",
      "  [ 6  7]\n",
      "  [ 8  9]]\n",
      "\n",
      " [[10 11]\n",
      "  [12 13]\n",
      "  [14 15]\n",
      "  [16 17]\n",
      "  [18 19]]\n",
      "\n",
      " [[20 21]\n",
      "  [22 23]\n",
      "  [24 25]\n",
      "  [26 27]\n",
      "  [28 29]]]\n",
      "Yes var1 and var3 changed. \n"
     ]
    }
   ],
   "source": [
    "var2[1,0] = -1  #(d)\n",
    "print(\"var1 - \", var1)\n",
    "print(\"var3 - \", var3)\n",
    "\n",
    "print(\"Yes var1 and var3 changed. \")"
   ]
  },
  {
   "cell_type": "code",
   "execution_count": 6,
   "id": "0602432f-4ae6-45c8-8b07-4158f0bb0ce2",
   "metadata": {},
   "outputs": [
    {
     "name": "stdout",
     "output_type": "stream",
     "text": [
      "(i) Sum var3 over its second dimension and print the result =  [[ 20  19]\n",
      " [ 70  75]\n",
      " [120 125]]\n",
      "(ii) Sum var3 over its third dimension and print the result =  [[ 1  5  3 13 17]\n",
      " [21 25 29 33 37]\n",
      " [41 45 49 53 57]]\n",
      "(iii) Sum var3 over both its first and third dimensions and print the result =  [ 63  75  81  99 111]\n"
     ]
    }
   ],
   "source": [
    "# (e)\n",
    "print(\"(i) Sum var3 over its second dimension and print the result = \", np.sum(var3, axis=1))\n",
    "print(\"(ii) Sum var3 over its third dimension and print the result = \",np.sum(var3, axis=2))\n",
    "print(\"(iii) Sum var3 over both its first and third dimensions and print the result = \", np.sum(var3, axis=(0,2)))"
   ]
  },
  {
   "cell_type": "code",
   "execution_count": 7,
   "id": "21735753-cafa-4a3d-aaf0-5d41f28f16c7",
   "metadata": {},
   "outputs": [
    {
     "name": "stdout",
     "output_type": "stream",
     "text": [
      "var2 :- \n",
      " [[ 0  1  2  3  4]\n",
      " [-1  6  7  8  9]\n",
      " [10 11 12 13 14]\n",
      " [15 16 17 18 19]\n",
      " [20 21 22 23 24]\n",
      " [25 26 27 28 29]]\n",
      "\n",
      "(i) Slice out the second row of var2 -  [-1  6  7  8  9]\n",
      "\n",
      "(ii) Slice out the last column of var2 using the -1 notation -  [ 4  9 14 19 24 29]\n",
      "\n",
      "(iii) Slice out the top right 2 × 2 submatrix of var2 -\n",
      "  [[3 4]\n",
      " [8 9]]\n"
     ]
    }
   ],
   "source": [
    "#(e)\n",
    "print(\"var2 :- \\n\",var2)\n",
    "print(\"\\n(i) Slice out the second row of var2 - \" , var2[1,:])\n",
    "print()\n",
    "print(\"(ii) Slice out the last column of var2 using the -1 notation - \", var2[:,-1])\n",
    "print()\n",
    "print(\"(iii) Slice out the top right 2 × 2 submatrix of var2 -\\n \", var2[:2, -2:])"
   ]
  },
  {
   "cell_type": "markdown",
   "id": "0f14caf1-a922-4d7e-adfd-6ec5fa125613",
   "metadata": {},
   "source": [
    "Q.2\\\n",
    "a) The most basic kind of broadcast is with a scalar, in which you can perform a\n",
    "binary operation (e.g., add, multiply, ...) on an array and a scalar, the effect is to\n",
    "perform that operation with the scalar for every element of the array. To try this\n",
    "out, create a vector 1, 2, . . . , 10 by adding 1 to the result of the arange function.\\\n",
    "b) Now, create a 10 × 10 matrix A in which Ai j = i + j. You’ll be able to do this\n",
    "using the vector you just created, and adding it to a reshaped version of itself.\\\n",
    "c) A very common use of broadcasting is to standardize data, i.e., to make it have\n",
    "zero mean and unit variance. First, create a fake “data set” with 50 examples,\n",
    "each with five dimensions.\\\n",
    "    import numpy.random as npr\\\n",
    "    data = np.exp(npr.randn ( 50 , 5 ))\\\n",
    "d) You don’t worry too much about what this code is doing at this stage of the\n",
    "course, but for completeness: it imports the NumPy random number generation\n",
    "library, then generates a 50 × 5 matrix of standard normal random variates and exponentiates them. The effect of this is to have a pretend data set of 50 independent and identically-distributed vectors from a log-normal distribution.\\\n",
    "e) Now, compute the mean and standard deviation of each column. This should\n",
    "result in two vectors of length 5. You’ll need to think a little bit about how to use\n",
    "the axis argument to mean and std. Store these vectors into variables and print\n",
    "both of them.\\\n",
    "f) Now standardize the data matrix by\n",
    "1) subtracting the mean off of each column\n",
    "2) dividing each column by its standard deviation. Do this via broadcasting,\n",
    "and store the result in a matrix called normalized. To verify that you successfully\n",
    "did it, compute the mean and standard deviation of\n",
    "the columns of normalized and print them out."
   ]
  },
  {
   "cell_type": "code",
   "execution_count": 8,
   "id": "adebac37-49b0-48a1-b1ba-c262ecd0ec1e",
   "metadata": {},
   "outputs": [
    {
     "name": "stdout",
     "output_type": "stream",
     "text": [
      "Orignal vector =  [0 1 2 3 4 5 6 7 8 9]\n",
      "Result of binary add operation (broadcast with a scalar -  [ 1  2  3  4  5  6  7  8  9 10]\n"
     ]
    }
   ],
   "source": [
    "vect1 = np.arange(10) #(a)\n",
    "print(\"Orignal vector = \", vect1)\n",
    "vect1 = vect1 + 1\n",
    "print(\"Result of binary add operation (broadcast with a scalar - \",vect1)"
   ]
  },
  {
   "cell_type": "code",
   "execution_count": 9,
   "id": "ce29cee9-06df-4ff6-b9b2-096f61d01c53",
   "metadata": {},
   "outputs": [
    {
     "name": "stdout",
     "output_type": "stream",
     "text": [
      "b) 10 x 10 matrix in which Aij = i+j, with previously created vector : \n",
      " [[ 2  3  4  5  6  7  8  9 10 11]\n",
      " [ 3  4  5  6  7  8  9 10 11 12]\n",
      " [ 4  5  6  7  8  9 10 11 12 13]\n",
      " [ 5  6  7  8  9 10 11 12 13 14]\n",
      " [ 6  7  8  9 10 11 12 13 14 15]\n",
      " [ 7  8  9 10 11 12 13 14 15 16]\n",
      " [ 8  9 10 11 12 13 14 15 16 17]\n",
      " [ 9 10 11 12 13 14 15 16 17 18]\n",
      " [10 11 12 13 14 15 16 17 18 19]\n",
      " [11 12 13 14 15 16 17 18 19 20]]\n"
     ]
    }
   ],
   "source": [
    "print(\"b) 10 x 10 matrix in which Aij = i+j, with previously created vector : \\n\", vect1.reshape(10,1) + vect1)"
   ]
  },
  {
   "cell_type": "code",
   "execution_count": 10,
   "id": "1a8239bf-c95b-4e51-9581-31ea97fdab05",
   "metadata": {},
   "outputs": [],
   "source": [
    "import numpy.random as npr\n",
    "data = np.exp(npr.randn ( 50 , 5 ))"
   ]
  },
  {
   "cell_type": "code",
   "execution_count": 11,
   "id": "cf96f305-64f7-4de1-9e2c-92857433819e",
   "metadata": {},
   "outputs": [
    {
     "name": "stdout",
     "output_type": "stream",
     "text": [
      "Mean -  [1.35792538 1.58926391 1.1799924  1.46139694 1.88707773]\n",
      "Standard Deviation =  [1.25234295 1.83310542 0.82184159 1.93500352 2.39176781]\n"
     ]
    }
   ],
   "source": [
    "mean = data.mean(axis=0)\n",
    "std = data.std(axis=0)\n",
    "print(\"Mean - \", mean)\n",
    "print(\"Standard Deviation = \", std) "
   ]
  },
  {
   "cell_type": "code",
   "execution_count": 12,
   "id": "a3875103-4fff-476c-a846-e66e1a46c352",
   "metadata": {},
   "outputs": [],
   "source": [
    "normalized = (data-mean)/std"
   ]
  },
  {
   "cell_type": "code",
   "execution_count": 13,
   "id": "4c350e31-919e-46f2-b565-8590ec8d83a1",
   "metadata": {},
   "outputs": [
    {
     "name": "stdout",
     "output_type": "stream",
     "text": [
      "Normalized mean =  [-2.57571742e-16  9.21485110e-17 -2.49800181e-16  1.19904087e-16\n",
      "  1.59872116e-16]\n",
      "Normalized Standard deviation =  [1. 1. 1. 1. 1.]\n",
      "\n",
      "** The mean of normalized data is not exactly zero due to limitation of floating-point arithmetic, but is very close to zero\n"
     ]
    }
   ],
   "source": [
    "print(\"Normalized mean = \", normalized.mean(axis=0))\n",
    "print(\"Normalized Standard deviation = \", normalized.std(axis=0))\n",
    "\n",
    "print(\"\\n** The mean of normalized data is not exactly zero due to limitation of floating-point arithmetic, but is very close to zero\")"
   ]
  },
  {
   "cell_type": "markdown",
   "id": "25ea4eef-bd52-47ff-b168-0a798af5e911",
   "metadata": {},
   "source": [
    "Q.3\\\n",
    "a) A Vandermonde matrix is a matrix generated from a vector in which each column\n",
    "of the matrix is an integer power starting from zero. So, if I have a column vector \n",
    "${\\begin{bmatrix} \n",
    "    x_1 \\ x_2 \\ \\cdots \\ x_N \n",
    "\\end{bmatrix}^T}$ ,then the associated (square) Vandermonde matrix would be\\\n",
    "\\begin{equation}\n",
    "V=\n",
    "\\begin{pmatrix}\n",
    "  1       & x^1_1   & x^2_1   & \\cdots  & x^{n-1}_1  \\\\\n",
    "  1       & x^1_2   & x^2_2   & \\cdots  & x^{n-1}_2  \\\\\n",
    "  \\vdots  & \\vdots  & \\vdots  & \\ddots  & \\vdots \\\\\n",
    "  1       & x^1_n   & x^2_n   & \\cdots  & x^{n-1}_n  \\\\\n",
    "\\end{pmatrix}\n",
    "\\end{equation}\n",
    "\n",
    "Use what you learned about broadcasting in the previous problem to write a\n",
    "function that will produce a Vandermonde matrix for a vector \n",
    "${\\begin{bmatrix} \n",
    "    1 \\ 2 \\ \\cdots \\ N \n",
    "\\end{bmatrix}^T}$\n",
    "for any N. Do it without using a loop. Here’s a stub to get you started:\\\n",
    "&nbsp; &nbsp; &nbsp; def vandermonde (N):\\\n",
    "&nbsp; &nbsp; &nbsp; vec = np.arange (N) +1\\\n",
    "&nbsp; &nbsp; &nbsp; \\#write your code here.\\\n",
    "Use your function for N = 12, store it in variable named vander, and print the\n",
    "result.\\\n",
    "b) Now, let’s make a pretend linear system problem with this matrix. Create a vector\n",
    "of all ones, of length 12 and call it x. Perform a matrix-vector multiplication of\n",
    "vander with the vector you just created and store that in a new vector and call it b.\n",
    "Print the vector b.\\\n",
    "c) First, solve the linear system the naïve way, pretending like you don’t know x.\n",
    "Import numpy.linalg, invert V and multiply it by b. Print out your result. What\n",
    "should you get for your answer? If the answer is different than what you\n",
    "expected, write a sentence about that difference.\\\n",
    "d) Now, solve the same linear system using solve. Print out the result. Does it seem\n",
    "more or less in line with what you’d expect?"
   ]
  },
  {
   "cell_type": "code",
   "execution_count": 14,
   "id": "4bd773a8-c066-4726-8714-ad4c69abe553",
   "metadata": {},
   "outputs": [],
   "source": [
    "def vandermonde(n):\n",
    "    vec = np.arange(n) + 1\n",
    "    return vec.reshape(n,1)**np.arange(n)"
   ]
  },
  {
   "cell_type": "code",
   "execution_count": 15,
   "id": "26eeeddf-8bd4-4aa3-b9a3-e3ee30b5f911",
   "metadata": {},
   "outputs": [
    {
     "name": "stdout",
     "output_type": "stream",
     "text": [
      "[[           1            1            1            1            1\n",
      "             1            1            1            1            1\n",
      "             1            1]\n",
      " [           1            2            4            8           16\n",
      "            32           64          128          256          512\n",
      "          1024         2048]\n",
      " [           1            3            9           27           81\n",
      "           243          729         2187         6561        19683\n",
      "         59049       177147]\n",
      " [           1            4           16           64          256\n",
      "          1024         4096        16384        65536       262144\n",
      "       1048576      4194304]\n",
      " [           1            5           25          125          625\n",
      "          3125        15625        78125       390625      1953125\n",
      "       9765625     48828125]\n",
      " [           1            6           36          216         1296\n",
      "          7776        46656       279936      1679616     10077696\n",
      "      60466176    362797056]\n",
      " [           1            7           49          343         2401\n",
      "         16807       117649       823543      5764801     40353607\n",
      "     282475249   1977326743]\n",
      " [           1            8           64          512         4096\n",
      "         32768       262144      2097152     16777216    134217728\n",
      "    1073741824   8589934592]\n",
      " [           1            9           81          729         6561\n",
      "         59049       531441      4782969     43046721    387420489\n",
      "    3486784401  31381059609]\n",
      " [           1           10          100         1000        10000\n",
      "        100000      1000000     10000000    100000000   1000000000\n",
      "   10000000000 100000000000]\n",
      " [           1           11          121         1331        14641\n",
      "        161051      1771561     19487171    214358881   2357947691\n",
      "   25937424601 285311670611]\n",
      " [           1           12          144         1728        20736\n",
      "        248832      2985984     35831808    429981696   5159780352\n",
      "   61917364224 743008370688]]\n"
     ]
    }
   ],
   "source": [
    "van = vandermonde(12)\n",
    "print(van) #(a) part"
   ]
  },
  {
   "cell_type": "code",
   "execution_count": 16,
   "id": "8d3b0422-493c-4625-ba9b-d7371c07e653",
   "metadata": {},
   "outputs": [
    {
     "name": "stdout",
     "output_type": "stream",
     "text": [
      "[1.20000000e+01 4.09500000e+03 2.65720000e+05 5.59240500e+06\n",
      " 6.10351560e+07 4.35356467e+08 2.30688120e+09 9.81706810e+09\n",
      " 3.53036921e+10 1.11111111e+11 3.13842838e+11 8.10554586e+11]\n"
     ]
    }
   ],
   "source": [
    "x = np.ones(12)\n",
    "b = van @ x\n",
    "print(b) #(b) part"
   ]
  },
  {
   "cell_type": "code",
   "execution_count": 17,
   "id": "92ef5071-c876-4bea-b8be-cad7afdf3816",
   "metadata": {},
   "outputs": [
    {
     "name": "stdout",
     "output_type": "stream",
     "text": [
      "[-12.26953125   5.90625     15.421875    -6.03515625   2.05859375\n",
      "   0.92675781   1.00244141   1.00010681   0.99997711   1.00000131\n",
      "   0.99999996   1.        ]\n"
     ]
    }
   ],
   "source": [
    "from numpy import linalg\n",
    "print(linalg.inv(van) @ b)"
   ]
  },
  {
   "cell_type": "markdown",
   "id": "f8ad0495-8127-4fd1-b05e-ef93e98c1e2a",
   "metadata": {},
   "source": [
    "The Expected result of matirx multiplication of inverse of vandermonde matrix and b is vector of all onces, since the original 'x' was a vector of all onces. The difference indicates numerical instability due to limitation of floating-point arithmetic."
   ]
  },
  {
   "cell_type": "code",
   "execution_count": 18,
   "id": "8eb9fb3e-6786-4222-9b46-8f85d995bb39",
   "metadata": {},
   "outputs": [
    {
     "data": {
      "text/plain": [
       "array([0.98080503, 1.05139768, 0.94513807, 1.03151945, 0.98899166,\n",
       "       1.00248816, 0.99962407, 1.0000384 , 0.99999737, 1.00000012,\n",
       "       1.        , 1.        ])"
      ]
     },
     "execution_count": 18,
     "metadata": {},
     "output_type": "execute_result"
    }
   ],
   "source": [
    "linalg.solve(van, b)"
   ]
  },
  {
   "cell_type": "markdown",
   "id": "4558bdff-1c5a-428d-a71f-2c5fc6aecc63",
   "metadata": {},
   "source": [
    "Using linalg.solve gives a more accurate solution which is close to vector of all ones, since is more robust for solving linear system."
   ]
  },
  {
   "cell_type": "code",
   "execution_count": null,
   "id": "78a0e5fe-3e36-4ca9-bcbe-2e719c901045",
   "metadata": {},
   "outputs": [],
   "source": []
  }
 ],
 "metadata": {
  "kernelspec": {
   "display_name": "Python 3 (ipykernel)",
   "language": "python",
   "name": "python3"
  },
  "language_info": {
   "codemirror_mode": {
    "name": "ipython",
    "version": 3
   },
   "file_extension": ".py",
   "mimetype": "text/x-python",
   "name": "python",
   "nbconvert_exporter": "python",
   "pygments_lexer": "ipython3",
   "version": "3.12.6"
  }
 },
 "nbformat": 4,
 "nbformat_minor": 5
}
